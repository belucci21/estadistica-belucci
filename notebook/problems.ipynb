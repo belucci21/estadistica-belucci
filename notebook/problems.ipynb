{
    "cells": [
        {
            "cell_type": "markdown",
            "id": "ac622319",
            "metadata": {},
            "source": [
                "# Descriptive statistics problems"
            ]
        },
        {
            "cell_type": "markdown",
            "id": "5e0ab0d5",
            "metadata": {},
            "source": [
                "### Exercise 1\n",
                "\n",
                "We will use NumPy to obtain information to describe statistically.\n",
                "\n",
                "- Generate an array of 100 elements following a normal distribution.\n",
                "- Generate an array of 100 elements following a chi-square distribution with 3 degrees of freedom.\n",
                "- Calculate the main metrics and statistical measures that best describe the two vectors."
            ]
        },
        {
            "cell_type": "code",
            "execution_count": 19,
            "id": "34720ab6",
            "metadata": {},
            "outputs": [
                {
                    "name": "stdout",
                    "output_type": "stream",
                    "text": [
                        "Normal Distribution Statistics:\n",
                        "mean: 0.22229133006862942\n",
                        "median: 0.21103667425761935\n",
                        "std_dev: 0.9505358707654123\n",
                        "variance: 0.9035184416117606\n",
                        "min: -2.198805956620082\n",
                        "max: 2.5269324258736217\n",
                        "25th_percentile: -0.536303477321606\n",
                        "50th_percentile: 0.21103667425761935\n",
                        "75th_percentile: 0.7648107198197566\n",
                        "\n",
                        "Chi-Square Distribution Statistics:\n",
                        "mean: 2.988578615641927\n",
                        "median: 2.283169347880806\n",
                        "std_dev: 2.6913691974111162\n",
                        "variance: 7.243468156773355\n",
                        "min: 0.10145661210927892\n",
                        "max: 16.171955190368024\n",
                        "25th_percentile: 1.1426635103666343\n",
                        "50th_percentile: 2.283169347880806\n",
                        "75th_percentile: 3.8215431230849806\n"
                    ]
                }
            ],
            "source": [
                "import numpy as np\n",
                "\n",
                "# Array 100 elementos\n",
                "normal_distribution = np.random.normal(loc=0, scale=1, size=100)\n",
                "\n",
                "# array de 100 elementos\n",
                "chi_square_distribution = np.random.chisquare(df=3, size=100)\n",
                "\n",
                "# Métricas\n",
                "def calculate_statistics(data):\n",
                "    stats = {\n",
                "        'mean': np.mean(data),\n",
                "        'median': np.median(data),\n",
                "        'std_dev': np.std(data),\n",
                "        'variance': np.var(data),\n",
                "        'min': np.min(data),\n",
                "        'max': np.max(data),\n",
                "        '25th_percentile': np.percentile(data, 25),\n",
                "        '50th_percentile': np.percentile(data, 50),\n",
                "        '75th_percentile': np.percentile(data, 75),\n",
                "    }\n",
                "    return stats\n",
                "\n",
                "# Calcular las estadísticas normales\n",
                "normal_stats = calculate_statistics(normal_distribution)\n",
                "print(\"Normal Distribution Statistics:\")\n",
                "for key, value in normal_stats.items():\n",
                "    print(f\"{key}: {value}\")\n",
                "\n",
                "# Calcular las estadísticas chi\n",
                "chi_square_stats = calculate_statistics(chi_square_distribution)\n",
                "print(\"\\nChi-Square Distribution Statistics:\")\n",
                "for key, value in chi_square_stats.items():\n",
                "    print(f\"{key}: {value}\")\n"
            ]
        },
        {
            "cell_type": "markdown",
            "id": "46c70c3d",
            "metadata": {},
            "source": [
                "### Exercise 2\n",
                "\n",
                "Write a Python program to calculate the standard deviation of the following data:\n",
                "\n",
                "```py\n",
                "data = [4, 2, 5, 8, 6]\n",
                "```"
            ]
        },
        {
            "cell_type": "code",
            "execution_count": 18,
            "id": "d590308e",
            "metadata": {},
            "outputs": [
                {
                    "name": "stdout",
                    "output_type": "stream",
                    "text": [
                        "La desviación estándar es: 2.24\n"
                    ]
                }
            ],
            "source": [
                "import numpy as np\n",
                "\n",
                "# Datos\n",
                "data = [4, 2, 5, 8, 6]\n",
                "std_dev = np.std(data, ddof=1)\n",
                "\n",
                "# resultado\n",
                "print(f\"La desviación estándar es: {std_dev:.2f}\")\n"
            ]
        }
    ],
    "metadata": {
        "interpreter": {
            "hash": "9248718ffe6ce6938b217e69dbcc175ea21f4c6b28a317e96c05334edae734bb"
        },
        "kernelspec": {
            "display_name": "Python 3.9.12 ('ML-BOOTCAMP')",
            "language": "python",
            "name": "python3"
        },
        "language_info": {
            "codemirror_mode": {
                "name": "ipython",
                "version": 3
            },
            "file_extension": ".py",
            "mimetype": "text/x-python",
            "name": "python",
            "nbconvert_exporter": "python",
            "pygments_lexer": "ipython3",
            "version": "3.12.6"
        }
    },
    "nbformat": 4,
    "nbformat_minor": 5
}
